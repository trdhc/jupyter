{
 "cells": [
  {
   "cell_type": "markdown",
   "metadata": {},
   "source": [
    "# Computing R.E. Agent Commuter Times in SoFla"
   ]
  },
  {
   "cell_type": "markdown",
   "metadata": {},
   "source": [
    "## Step 1: Describing and Filtering the Raw Data"
   ]
  },
  {
   "cell_type": "markdown",
   "metadata": {},
   "source": [
    "The only dependency we need is Pandas."
   ]
  },
  {
   "cell_type": "code",
   "execution_count": 31,
   "metadata": {},
   "outputs": [],
   "source": [
    "import pandas as pd"
   ]
  },
  {
   "cell_type": "markdown",
   "metadata": {},
   "source": [
    "Our <b>source</b> file is the raw data, which does not include any headers. Also, the source data includes licensees in both Miami-Dade and Monroe counties, but we're only interested in the Dade list.\n",
    "\n",
    "The <b>with_header</b> list is an intermediate file. This is where we will keep the data with the header appended to it.\n",
    "\n",
    "And the <b>dest</b> file is the final output: a list of Miami-Dade licensees with the headers at the top."
   ]
  },
  {
   "cell_type": "code",
   "execution_count": 32,
   "metadata": {},
   "outputs": [],
   "source": [
    "source = '/Users/haru/Documents/data/sofla/licensing/sofla_licensing_dade-monroe_2018-04-28.csv'\n",
    "with_header = '/Users/haru/Documents/data/sofla/licensing/sofla_licensing_dade-monroe_with-header_2018-04-28.csv'\n",
    "dest = '/Users/haru/Documents/data/sofla/licensing/sofla_licensing_dade_2018-04-28.csv'"
   ]
  },
  {
   "cell_type": "markdown",
   "metadata": {},
   "source": [
    "Since we're using Python's built-in file-writing methods (i.e. instead of a module like <b>csv</b>), we'll need to turn the list of column headers into a single, comma-delimited string."
   ]
  },
  {
   "cell_type": "code",
   "execution_count": 33,
   "metadata": {},
   "outputs": [],
   "source": [
    "Columns = [\n",
    "    \"Board\",\n",
    "    \"Board Name\",\n",
    "    \"Licensee Name\",\n",
    "    \"DBA Name\",\n",
    "    \"Rank\",\n",
    "    \"Address 1\",\n",
    "    \"Address 2\",\n",
    "    \"Address 3\",\n",
    "    \"City\",\n",
    "    \"State\",\n",
    "    \"Zip\",\n",
    "    \"County Code\",\n",
    "    \"County Name\",\n",
    "    \"License Number\",\n",
    "    \"Primary Status\",\n",
    "    \"Secondary Status\",\n",
    "    \"Original License Date\",\n",
    "    \"Status Effective Date\",\n",
    "    \"License Expiration Date\",\n",
    "    \"Alternate License Number\",\n",
    "    \"Self Proprietor’s Name\",\n",
    "    \"Employer’s Name\",\n",
    "    \"Employer’s License Number\"\n",
    "]\n",
    "header = ','.join(Columns)"
   ]
  },
  {
   "cell_type": "markdown",
   "metadata": {},
   "source": [
    "Using nested <b>with</b> blocks we can read the source file, write the header, and append each line in the source after it.\n",
    "\n",
    "We don't need to call any of the various 'reading' methods in order to get the data from the source file. A simple <b>for</b> loop will suffice."
   ]
  },
  {
   "cell_type": "code",
   "execution_count": 35,
   "metadata": {},
   "outputs": [],
   "source": [
    "with open(source, 'r') as in_file:\n",
    "    \n",
    "    with open(with_header, 'w') as out_file:\n",
    "        \n",
    "        out_file.write(header)\n",
    "        out_file.write('\\n')\n",
    "        \n",
    "    with open(with_header, 'a') as out_file:\n",
    "    \n",
    "        for line in in_file:\n",
    "\n",
    "            out_file.write(line)\n",
    "    "
   ]
  },
  {
   "cell_type": "markdown",
   "metadata": {},
   "source": [
    "Then we read the intermediate file into a new DataFrame, making sure to keep all the data as a string in order to prevent corrupting any numbers."
   ]
  },
  {
   "cell_type": "code",
   "execution_count": 37,
   "metadata": {},
   "outputs": [],
   "source": [
    "aF = pd.read_csv(with_header, dtype=str)"
   ]
  },
  {
   "cell_type": "markdown",
   "metadata": {},
   "source": [
    "To narrow the dataset down to Miami-Dade licensees only, we'll create and apply a boolean mask.\n",
    "\n",
    "The mask is an array of True or False values for each row in the DataFrame, depending on the conditional that's to the right of the equal-sign. In this case, the test is whether or not the value in that row's \"County Name\" column is exactly equal to the string \"Dade.\"\n",
    "\n",
    "To apply the mask, we call the DataFrame's built-in <b>loc</b> method. Notice that the mask is applied using bracket notation, rather than parentheses."
   ]
  },
  {
   "cell_type": "code",
   "execution_count": 38,
   "metadata": {},
   "outputs": [],
   "source": [
    "mask = aF['County Name'] == 'Dade'\n",
    "group = aF.loc[mask]"
   ]
  },
  {
   "cell_type": "markdown",
   "metadata": {},
   "source": [
    "Finally, we write the filtered DataFrame to a new file. The original index isn't necessary, so we'll omit that."
   ]
  },
  {
   "cell_type": "code",
   "execution_count": 39,
   "metadata": {},
   "outputs": [],
   "source": [
    "group.to_csv(dest, index=False)"
   ]
  },
  {
   "cell_type": "markdown",
   "metadata": {},
   "source": [
    "## Step 2: Splitting the Data (with More Filtering)"
   ]
  },
  {
   "cell_type": "markdown",
   "metadata": {},
   "source": [
    "Our purpose here is to see which brokerage firms have the longest commutes—i.e. who is driving the longest to get to work?\n",
    "\n",
    "The first thing we'll need to do is filter some more. We only want rows for agents or brokers (not offices or companies), and we only want agents or brokers who work with a company, rather than out of their home.\n",
    "\n",
    "We can start by filtering for rows that have data in the \"Employer's Name\" column. We'll call Pandas' built-in <b>isnull()</b> method and then reverse it using the special <b>~</b> character, which inverts the boolean array.\n",
    "\n",
    "We'll also want to break up the data into two tables: one for agents, and another for offices."
   ]
  },
  {
   "cell_type": "markdown",
   "metadata": {},
   "source": [
    "(The state's data uses smart-quotes, which will raise a KeyError if you try to filter using straight quotes.)"
   ]
  },
  {
   "cell_type": "code",
   "execution_count": 44,
   "metadata": {
    "scrolled": false
   },
   "outputs": [
    {
     "name": "stderr",
     "output_type": "stream",
     "text": [
      "/Library/Frameworks/Python.framework/Versions/3.6/lib/python3.6/site-packages/pandas/core/frame.py:3027: SettingWithCopyWarning: \n",
      "A value is trying to be set on a copy of a slice from a DataFrame\n",
      "\n",
      "See the caveats in the documentation: http://pandas.pydata.org/pandas-docs/stable/indexing.html#indexing-view-versus-copy\n",
      "  return super(DataFrame, self).rename(**kwargs)\n"
     ]
    }
   ],
   "source": [
    "group.rename(columns={\"Employer’s Name\": \"Employer's Name\", \"Employer’s License Number\": \"Employer's License Number\"}, inplace=True)"
   ]
  },
  {
   "cell_type": "code",
   "execution_count": 72,
   "metadata": {
    "scrolled": false
   },
   "outputs": [],
   "source": [
    "mask = (~group[\"Employer's Name\"].isnull())&(group.Rank.str.startswith('SL')|group.Rank.str.startswith('BK')|group.Rank.str.startswith('BL'))"
   ]
  },
  {
   "cell_type": "code",
   "execution_count": 73,
   "metadata": {},
   "outputs": [],
   "source": [
    "agentFrame = group.loc[mask]"
   ]
  },
  {
   "cell_type": "code",
   "execution_count": 74,
   "metadata": {},
   "outputs": [],
   "source": [
    "mask = group.Rank.str.startswith('CQ')|group.Rank.str.startswith('BO')"
   ]
  },
  {
   "cell_type": "code",
   "execution_count": 75,
   "metadata": {},
   "outputs": [],
   "source": [
    "officeFrame = group.loc[mask]"
   ]
  },
  {
   "cell_type": "markdown",
   "metadata": {},
   "source": [
    "We now have separate tables for agents and firms."
   ]
  },
  {
   "cell_type": "markdown",
   "metadata": {},
   "source": [
    "## Step 3: Merging the Tables"
   ]
  },
  {
   "cell_type": "markdown",
   "metadata": {},
   "source": [
    "Now we want to find out how far away each licensed agent lives from their place of work.\n",
    "\n",
    "But there is no column in the data for \"Employer's Address.\" There is only information about the employer's name and license number.\n",
    "\n",
    "Those employers exist as separate rows in the data, and <i>their</i> address is available in that row.\n",
    "\n",
    "So: we have to take the addresses from the office table and match them up with the appropriate rows in the agents table."
   ]
  },
  {
   "cell_type": "markdown",
   "metadata": {},
   "source": [
    "One way to do this is to create a third table containing only office license numbers and addresses, which will serve as a dictionary. We can slice the <b>officeFrame</b> easily."
   ]
  },
  {
   "cell_type": "code",
   "execution_count": 76,
   "metadata": {},
   "outputs": [],
   "source": [
    "lookupFrame = officeFrame[['License Number', 'Address 1', 'Address 2', 'Address 3', 'City', 'State', 'Zip']]"
   ]
  },
  {
   "cell_type": "code",
   "execution_count": 77,
   "metadata": {},
   "outputs": [],
   "source": [
    "lookupFrame.columns = [\"Employer's License Number\", 'Employer Address 1', 'Employer Address 2', 'Employer Address 3', 'Employer City', 'Employer State', 'Employer Zip']"
   ]
  },
  {
   "cell_type": "markdown",
   "metadata": {},
   "source": [
    "A DataFrame's <b>merge()</b> method can be used to align two tables based on the value in a certain column—akin to the index-match technique used in Excel.\n",
    "\n",
    "To do this, you have to make sure that the columns you'd like to line up have the same name. In this case, we're using \"Employer's License Number.\"\n",
    "\n",
    "We also want to set <b>how</b> to 'outer', which means that any non-matching rows from either the source or merged data will be included in the final table."
   ]
  },
  {
   "cell_type": "code",
   "execution_count": 80,
   "metadata": {},
   "outputs": [],
   "source": [
    "mergedFrame = agentFrame.merge(lookupFrame, on=\"Employer's License Number\", how='outer')"
   ]
  },
  {
   "cell_type": "markdown",
   "metadata": {},
   "source": [
    "And slicing the data to include only addrese, name, and license information will make it more legible."
   ]
  },
  {
   "cell_type": "code",
   "execution_count": 121,
   "metadata": {},
   "outputs": [],
   "source": [
    "Address_Columns = [\n",
    "    'Licensee Name',\n",
    "    'License Number',\n",
    "    'Address 1',\n",
    "    'Address 2',\n",
    "    'Address 3',\n",
    "    'City',\n",
    "    'Zip',\n",
    "    \"Employer's Name\",\n",
    "    \"Employer's License Number\",\n",
    "    'Employer Address 1',\n",
    "    'Employer Address 2',\n",
    "    'Employer Address 3',\n",
    "    'Employer City',\n",
    "    'Employer Zip'\n",
    "]\n",
    "addressFrame = mergedFrame[Address_Columns]"
   ]
  },
  {
   "cell_type": "markdown",
   "metadata": {},
   "source": [
    "Now, we can pull a list of all agents with a given employer and compare the agents' addresses against the firm's."
   ]
  },
  {
   "cell_type": "code",
   "execution_count": 108,
   "metadata": {},
   "outputs": [],
   "source": [
    "mask = addressFrame[\"Employer's Name\"].str.contains('ESSLINGER', na=False)"
   ]
  },
  {
   "cell_type": "code",
   "execution_count": 111,
   "metadata": {},
   "outputs": [
    {
     "data": {
      "text/html": [
       "<div>\n",
       "<style scoped>\n",
       "    .dataframe tbody tr th:only-of-type {\n",
       "        vertical-align: middle;\n",
       "    }\n",
       "\n",
       "    .dataframe tbody tr th {\n",
       "        vertical-align: top;\n",
       "    }\n",
       "\n",
       "    .dataframe thead th {\n",
       "        text-align: right;\n",
       "    }\n",
       "</style>\n",
       "<table border=\"1\" class=\"dataframe\">\n",
       "  <thead>\n",
       "    <tr style=\"text-align: right;\">\n",
       "      <th></th>\n",
       "      <th>Licensee Name</th>\n",
       "      <th>License Number</th>\n",
       "      <th>Address 1</th>\n",
       "      <th>Address 2</th>\n",
       "      <th>Address 3</th>\n",
       "      <th>City</th>\n",
       "      <th>Zip</th>\n",
       "      <th>Employer's Name</th>\n",
       "      <th>Employer's License Number</th>\n",
       "      <th>Employer Address 1</th>\n",
       "      <th>Employer Address 2</th>\n",
       "      <th>Employer Address 3</th>\n",
       "      <th>Employer City</th>\n",
       "      <th>Employer Zip</th>\n",
       "    </tr>\n",
       "  </thead>\n",
       "  <tbody>\n",
       "    <tr>\n",
       "      <th>1264</th>\n",
       "      <td>ABAD, MARIA RAQUEL PA</td>\n",
       "      <td>535874</td>\n",
       "      <td>3082 MARY STREET</td>\n",
       "      <td>NaN</td>\n",
       "      <td>NaN</td>\n",
       "      <td>MIAMI</td>\n",
       "      <td>33133</td>\n",
       "      <td>ESSLINGER WOOTEN MAXWELL INC</td>\n",
       "      <td>25294</td>\n",
       "      <td>201 ALHAMBRA CIRCLE SUITE 1060</td>\n",
       "      <td>NaN</td>\n",
       "      <td>NaN</td>\n",
       "      <td>CORAL GABLES</td>\n",
       "      <td>33134</td>\n",
       "    </tr>\n",
       "    <tr>\n",
       "      <th>1265</th>\n",
       "      <td>ABALLI, PATRICIA R</td>\n",
       "      <td>3171199</td>\n",
       "      <td>91 ISLAND DRIVE</td>\n",
       "      <td>NaN</td>\n",
       "      <td>NaN</td>\n",
       "      <td>KEY BISCAYNE</td>\n",
       "      <td>33149</td>\n",
       "      <td>ESSLINGER WOOTEN MAXWELL INC</td>\n",
       "      <td>25294</td>\n",
       "      <td>201 ALHAMBRA CIRCLE SUITE 1060</td>\n",
       "      <td>NaN</td>\n",
       "      <td>NaN</td>\n",
       "      <td>CORAL GABLES</td>\n",
       "      <td>33134</td>\n",
       "    </tr>\n",
       "    <tr>\n",
       "      <th>1266</th>\n",
       "      <td>ACEVEDO CRESPO, ZAHIRA</td>\n",
       "      <td>3308574</td>\n",
       "      <td>370 W MCINTYRE ST</td>\n",
       "      <td>NaN</td>\n",
       "      <td>NaN</td>\n",
       "      <td>KEY BISCAYNE</td>\n",
       "      <td>33149</td>\n",
       "      <td>ESSLINGER WOOTEN MAXWELL INC</td>\n",
       "      <td>25294</td>\n",
       "      <td>201 ALHAMBRA CIRCLE SUITE 1060</td>\n",
       "      <td>NaN</td>\n",
       "      <td>NaN</td>\n",
       "      <td>CORAL GABLES</td>\n",
       "      <td>33134</td>\n",
       "    </tr>\n",
       "    <tr>\n",
       "      <th>1267</th>\n",
       "      <td>ACOSTA OHARE, DORIS A</td>\n",
       "      <td>3208750</td>\n",
       "      <td>1790 S TREASURE DR # 5C</td>\n",
       "      <td>NaN</td>\n",
       "      <td>NaN</td>\n",
       "      <td>NORTH BAY VILLAGE</td>\n",
       "      <td>33141</td>\n",
       "      <td>ESSLINGER WOOTEN MAXWELL INC</td>\n",
       "      <td>25294</td>\n",
       "      <td>201 ALHAMBRA CIRCLE SUITE 1060</td>\n",
       "      <td>NaN</td>\n",
       "      <td>NaN</td>\n",
       "      <td>CORAL GABLES</td>\n",
       "      <td>33134</td>\n",
       "    </tr>\n",
       "    <tr>\n",
       "      <th>1268</th>\n",
       "      <td>ACOSTA, JULIAN R</td>\n",
       "      <td>3135208</td>\n",
       "      <td>2425 SW 27TH AVENUE APT PH 1406</td>\n",
       "      <td>NaN</td>\n",
       "      <td>NaN</td>\n",
       "      <td>MIAMI</td>\n",
       "      <td>33145</td>\n",
       "      <td>ESSLINGER WOOTEN MAXWELL INC</td>\n",
       "      <td>25294</td>\n",
       "      <td>201 ALHAMBRA CIRCLE SUITE 1060</td>\n",
       "      <td>NaN</td>\n",
       "      <td>NaN</td>\n",
       "      <td>CORAL GABLES</td>\n",
       "      <td>33134</td>\n",
       "    </tr>\n",
       "    <tr>\n",
       "      <th>1269</th>\n",
       "      <td>ACOSTA, MARIA ELENA</td>\n",
       "      <td>3055258</td>\n",
       "      <td>442 WARREN LANE</td>\n",
       "      <td>NaN</td>\n",
       "      <td>NaN</td>\n",
       "      <td>KEY BISCAYNE</td>\n",
       "      <td>33149</td>\n",
       "      <td>ESSLINGER WOOTEN MAXWELL INC</td>\n",
       "      <td>25294</td>\n",
       "      <td>201 ALHAMBRA CIRCLE SUITE 1060</td>\n",
       "      <td>NaN</td>\n",
       "      <td>NaN</td>\n",
       "      <td>CORAL GABLES</td>\n",
       "      <td>33134</td>\n",
       "    </tr>\n",
       "    <tr>\n",
       "      <th>1270</th>\n",
       "      <td>ADAMS, ERICA CECILIA</td>\n",
       "      <td>3373354</td>\n",
       "      <td>11900 SW 67TH CT</td>\n",
       "      <td>NaN</td>\n",
       "      <td>NaN</td>\n",
       "      <td>PINECREST</td>\n",
       "      <td>33156</td>\n",
       "      <td>ESSLINGER WOOTEN MAXWELL INC</td>\n",
       "      <td>25294</td>\n",
       "      <td>201 ALHAMBRA CIRCLE SUITE 1060</td>\n",
       "      <td>NaN</td>\n",
       "      <td>NaN</td>\n",
       "      <td>CORAL GABLES</td>\n",
       "      <td>33134</td>\n",
       "    </tr>\n",
       "    <tr>\n",
       "      <th>1271</th>\n",
       "      <td>ADAMS, JESSICA BEDOYA PA</td>\n",
       "      <td>3253202</td>\n",
       "      <td>4140  CRAWFORD AVE</td>\n",
       "      <td>NaN</td>\n",
       "      <td>NaN</td>\n",
       "      <td>MIAMI</td>\n",
       "      <td>33133</td>\n",
       "      <td>ESSLINGER WOOTEN MAXWELL INC</td>\n",
       "      <td>25294</td>\n",
       "      <td>201 ALHAMBRA CIRCLE SUITE 1060</td>\n",
       "      <td>NaN</td>\n",
       "      <td>NaN</td>\n",
       "      <td>CORAL GABLES</td>\n",
       "      <td>33134</td>\n",
       "    </tr>\n",
       "    <tr>\n",
       "      <th>1272</th>\n",
       "      <td>ADAMS, KATIE MARIE</td>\n",
       "      <td>3290030</td>\n",
       "      <td>60 SW 13 STREET #3416</td>\n",
       "      <td>NaN</td>\n",
       "      <td>NaN</td>\n",
       "      <td>MIAMI</td>\n",
       "      <td>33130</td>\n",
       "      <td>ESSLINGER WOOTEN MAXWELL INC</td>\n",
       "      <td>25294</td>\n",
       "      <td>201 ALHAMBRA CIRCLE SUITE 1060</td>\n",
       "      <td>NaN</td>\n",
       "      <td>NaN</td>\n",
       "      <td>CORAL GABLES</td>\n",
       "      <td>33134</td>\n",
       "    </tr>\n",
       "    <tr>\n",
       "      <th>1273</th>\n",
       "      <td>ALBUQUERQUE, MARIA TERESA</td>\n",
       "      <td>3057424</td>\n",
       "      <td>6801 INDIAN CREEK DR #704</td>\n",
       "      <td>NaN</td>\n",
       "      <td>NaN</td>\n",
       "      <td>MIAMI BEACH</td>\n",
       "      <td>33141</td>\n",
       "      <td>ESSLINGER WOOTEN MAXWELL INC</td>\n",
       "      <td>25294</td>\n",
       "      <td>201 ALHAMBRA CIRCLE SUITE 1060</td>\n",
       "      <td>NaN</td>\n",
       "      <td>NaN</td>\n",
       "      <td>CORAL GABLES</td>\n",
       "      <td>33134</td>\n",
       "    </tr>\n",
       "  </tbody>\n",
       "</table>\n",
       "</div>"
      ],
      "text/plain": [
       "                  Licensee Name License Number  \\\n",
       "1264      ABAD, MARIA RAQUEL PA         535874   \n",
       "1265         ABALLI, PATRICIA R        3171199   \n",
       "1266     ACEVEDO CRESPO, ZAHIRA        3308574   \n",
       "1267      ACOSTA OHARE, DORIS A        3208750   \n",
       "1268           ACOSTA, JULIAN R        3135208   \n",
       "1269        ACOSTA, MARIA ELENA        3055258   \n",
       "1270       ADAMS, ERICA CECILIA        3373354   \n",
       "1271   ADAMS, JESSICA BEDOYA PA        3253202   \n",
       "1272         ADAMS, KATIE MARIE        3290030   \n",
       "1273  ALBUQUERQUE, MARIA TERESA        3057424   \n",
       "\n",
       "                            Address 1 Address 2 Address 3               City  \\\n",
       "1264                 3082 MARY STREET       NaN       NaN              MIAMI   \n",
       "1265                  91 ISLAND DRIVE       NaN       NaN       KEY BISCAYNE   \n",
       "1266                370 W MCINTYRE ST       NaN       NaN       KEY BISCAYNE   \n",
       "1267          1790 S TREASURE DR # 5C       NaN       NaN  NORTH BAY VILLAGE   \n",
       "1268  2425 SW 27TH AVENUE APT PH 1406       NaN       NaN              MIAMI   \n",
       "1269                  442 WARREN LANE       NaN       NaN       KEY BISCAYNE   \n",
       "1270                 11900 SW 67TH CT       NaN       NaN          PINECREST   \n",
       "1271               4140  CRAWFORD AVE       NaN       NaN              MIAMI   \n",
       "1272            60 SW 13 STREET #3416       NaN       NaN              MIAMI   \n",
       "1273        6801 INDIAN CREEK DR #704       NaN       NaN        MIAMI BEACH   \n",
       "\n",
       "        Zip               Employer's Name Employer's License Number  \\\n",
       "1264  33133  ESSLINGER WOOTEN MAXWELL INC                     25294   \n",
       "1265  33149  ESSLINGER WOOTEN MAXWELL INC                     25294   \n",
       "1266  33149  ESSLINGER WOOTEN MAXWELL INC                     25294   \n",
       "1267  33141  ESSLINGER WOOTEN MAXWELL INC                     25294   \n",
       "1268  33145  ESSLINGER WOOTEN MAXWELL INC                     25294   \n",
       "1269  33149  ESSLINGER WOOTEN MAXWELL INC                     25294   \n",
       "1270  33156  ESSLINGER WOOTEN MAXWELL INC                     25294   \n",
       "1271  33133  ESSLINGER WOOTEN MAXWELL INC                     25294   \n",
       "1272  33130  ESSLINGER WOOTEN MAXWELL INC                     25294   \n",
       "1273  33141  ESSLINGER WOOTEN MAXWELL INC                     25294   \n",
       "\n",
       "                  Employer Address 1 Employer Address 2 Employer Address 3  \\\n",
       "1264  201 ALHAMBRA CIRCLE SUITE 1060                NaN                NaN   \n",
       "1265  201 ALHAMBRA CIRCLE SUITE 1060                NaN                NaN   \n",
       "1266  201 ALHAMBRA CIRCLE SUITE 1060                NaN                NaN   \n",
       "1267  201 ALHAMBRA CIRCLE SUITE 1060                NaN                NaN   \n",
       "1268  201 ALHAMBRA CIRCLE SUITE 1060                NaN                NaN   \n",
       "1269  201 ALHAMBRA CIRCLE SUITE 1060                NaN                NaN   \n",
       "1270  201 ALHAMBRA CIRCLE SUITE 1060                NaN                NaN   \n",
       "1271  201 ALHAMBRA CIRCLE SUITE 1060                NaN                NaN   \n",
       "1272  201 ALHAMBRA CIRCLE SUITE 1060                NaN                NaN   \n",
       "1273  201 ALHAMBRA CIRCLE SUITE 1060                NaN                NaN   \n",
       "\n",
       "     Employer City Employer Zip  \n",
       "1264  CORAL GABLES        33134  \n",
       "1265  CORAL GABLES        33134  \n",
       "1266  CORAL GABLES        33134  \n",
       "1267  CORAL GABLES        33134  \n",
       "1268  CORAL GABLES        33134  \n",
       "1269  CORAL GABLES        33134  \n",
       "1270  CORAL GABLES        33134  \n",
       "1271  CORAL GABLES        33134  \n",
       "1272  CORAL GABLES        33134  \n",
       "1273  CORAL GABLES        33134  "
      ]
     },
     "execution_count": 111,
     "metadata": {},
     "output_type": "execute_result"
    }
   ],
   "source": [
    "addressFrame.loc[mask].head(10)"
   ]
  },
  {
   "cell_type": "markdown",
   "metadata": {},
   "source": [
    "## Step 4: Searching for More Data"
   ]
  },
  {
   "cell_type": "markdown",
   "metadata": {},
   "source": [
    "Unfortunately, there is an issue with the licensing data.\n",
    "\n",
    "The address for each firm only refers to its coporate headquarters—not the specific branch where the agent actually goes to work every day.\n",
    "\n",
    "And since the corporate headquarters of a brokerage is generally where support, accounting, human resources, and other sides of the business work, its safe to say that an agent's distance to that building is irrelevant.\n",
    "\n",
    "That means we'll have to collect information about each agent's place of work from a different source.\n",
    "\n",
    "Our best bet is the brokerage's websites themselves. Douglas Elliman, for example, has the address for each agent listed in an easily scrapable format: https://www.elliman.com/agents/florida/a.\n",
    "\n",
    "We'll have to collect place-of-work addresses for each of the big brokerages, compile the information into a table, and then perform the reverse of what we just did above. Instead of aligning agents with their employer's license file, we'll have to take the agents' place-of-work addresses and align them with their personal addresses.\n",
    "\n",
    "The easiest way to do this will be based on each agent's license number, which should be public on every agent's page. If it's not, however, we'll have to use agent names—and that will require cleaning the data pulled from the company sites."
   ]
  },
  {
   "cell_type": "markdown",
   "metadata": {},
   "source": [
    "## Side-Step: Mapping Agents by Location"
   ]
  },
  {
   "cell_type": "markdown",
   "metadata": {},
   "source": [
    "In the meantime—where do most agents live?"
   ]
  },
  {
   "cell_type": "code",
   "execution_count": 125,
   "metadata": {},
   "outputs": [],
   "source": [
    "zipFrame = addressFrame.loc[~addressFrame['Zip'].isnull()]"
   ]
  },
  {
   "cell_type": "code",
   "execution_count": 127,
   "metadata": {},
   "outputs": [],
   "source": [
    "zG = zipFrame.groupby([\"Employer's Name\", 'Zip'])"
   ]
  },
  {
   "cell_type": "code",
   "execution_count": 133,
   "metadata": {},
   "outputs": [
    {
     "data": {
      "text/html": [
       "<div>\n",
       "<style scoped>\n",
       "    .dataframe tbody tr th:only-of-type {\n",
       "        vertical-align: middle;\n",
       "    }\n",
       "\n",
       "    .dataframe tbody tr th {\n",
       "        vertical-align: top;\n",
       "    }\n",
       "\n",
       "    .dataframe thead th {\n",
       "        text-align: right;\n",
       "    }\n",
       "</style>\n",
       "<table border=\"1\" class=\"dataframe\">\n",
       "  <thead>\n",
       "    <tr style=\"text-align: right;\">\n",
       "      <th></th>\n",
       "      <th>Employer's Name</th>\n",
       "      <th>Zip</th>\n",
       "      <th>Licensee Name</th>\n",
       "    </tr>\n",
       "  </thead>\n",
       "  <tbody>\n",
       "    <tr>\n",
       "      <th>14046</th>\n",
       "      <td>OPTIMAR REALTY GROUP LLC</td>\n",
       "      <td>33180</td>\n",
       "      <td>51</td>\n",
       "    </tr>\n",
       "    <tr>\n",
       "      <th>8472</th>\n",
       "      <td>GREAT PROPERTIES INTERNATIONAL LLC</td>\n",
       "      <td>33149</td>\n",
       "      <td>51</td>\n",
       "    </tr>\n",
       "    <tr>\n",
       "      <th>13668</th>\n",
       "      <td>OCEAN VIEW INT'L REALTY INC</td>\n",
       "      <td>33178</td>\n",
       "      <td>52</td>\n",
       "    </tr>\n",
       "    <tr>\n",
       "      <th>1679</th>\n",
       "      <td>BEACHFRONT REALTY INC</td>\n",
       "      <td>33154</td>\n",
       "      <td>52</td>\n",
       "    </tr>\n",
       "    <tr>\n",
       "      <th>12641</th>\n",
       "      <td>MIAMI RED BOX REALTY LLC</td>\n",
       "      <td>33160</td>\n",
       "      <td>52</td>\n",
       "    </tr>\n",
       "    <tr>\n",
       "      <th>5343</th>\n",
       "      <td>EAGLE REALTY LLC</td>\n",
       "      <td>33138</td>\n",
       "      <td>52</td>\n",
       "    </tr>\n",
       "    <tr>\n",
       "      <th>20069</th>\n",
       "      <td>YAFFE INTERNATIONAL REALTY LLC</td>\n",
       "      <td>33160</td>\n",
       "      <td>53</td>\n",
       "    </tr>\n",
       "    <tr>\n",
       "      <th>6052</th>\n",
       "      <td>ESSLINGER WOOTEN MAXWELL INC</td>\n",
       "      <td>33156</td>\n",
       "      <td>54</td>\n",
       "    </tr>\n",
       "    <tr>\n",
       "      <th>7188</th>\n",
       "      <td>FLORIDA REALTY OF MIAMI CORP</td>\n",
       "      <td>33186</td>\n",
       "      <td>55</td>\n",
       "    </tr>\n",
       "    <tr>\n",
       "      <th>12210</th>\n",
       "      <td>MIAMI BEACH REALTY LLC</td>\n",
       "      <td>33139</td>\n",
       "      <td>55</td>\n",
       "    </tr>\n",
       "    <tr>\n",
       "      <th>11980</th>\n",
       "      <td>MDLV LLC</td>\n",
       "      <td>33139</td>\n",
       "      <td>61</td>\n",
       "    </tr>\n",
       "    <tr>\n",
       "      <th>6047</th>\n",
       "      <td>ESSLINGER WOOTEN MAXWELL INC</td>\n",
       "      <td>33149</td>\n",
       "      <td>65</td>\n",
       "    </tr>\n",
       "    <tr>\n",
       "      <th>2421</th>\n",
       "      <td>BRICKELL REALTY GROUP LLC</td>\n",
       "      <td>33178</td>\n",
       "      <td>70</td>\n",
       "    </tr>\n",
       "    <tr>\n",
       "      <th>5046</th>\n",
       "      <td>DOUGLAS ELLIMAN FLORIDA LLC</td>\n",
       "      <td>33139</td>\n",
       "      <td>74</td>\n",
       "    </tr>\n",
       "    <tr>\n",
       "      <th>12436</th>\n",
       "      <td>MIAMI NEW REALTY INC</td>\n",
       "      <td>33178</td>\n",
       "      <td>75</td>\n",
       "    </tr>\n",
       "    <tr>\n",
       "      <th>1665</th>\n",
       "      <td>BEACHFRONT REALTY INC</td>\n",
       "      <td>33141</td>\n",
       "      <td>75</td>\n",
       "    </tr>\n",
       "    <tr>\n",
       "      <th>1662</th>\n",
       "      <td>BEACHFRONT REALTY INC</td>\n",
       "      <td>33140</td>\n",
       "      <td>78</td>\n",
       "    </tr>\n",
       "    <tr>\n",
       "      <th>1659</th>\n",
       "      <td>BEACHFRONT REALTY INC</td>\n",
       "      <td>33139</td>\n",
       "      <td>83</td>\n",
       "    </tr>\n",
       "    <tr>\n",
       "      <th>1716</th>\n",
       "      <td>BEACHFRONT REALTY INC</td>\n",
       "      <td>33179</td>\n",
       "      <td>99</td>\n",
       "    </tr>\n",
       "    <tr>\n",
       "      <th>14035</th>\n",
       "      <td>OPTIMAR REALTY GROUP LLC</td>\n",
       "      <td>33160</td>\n",
       "      <td>108</td>\n",
       "    </tr>\n",
       "    <tr>\n",
       "      <th>18336</th>\n",
       "      <td>THE KEYES COMPANY</td>\n",
       "      <td>33178</td>\n",
       "      <td>125</td>\n",
       "    </tr>\n",
       "    <tr>\n",
       "      <th>1718</th>\n",
       "      <td>BEACHFRONT REALTY INC</td>\n",
       "      <td>33180</td>\n",
       "      <td>151</td>\n",
       "    </tr>\n",
       "    <tr>\n",
       "      <th>1687</th>\n",
       "      <td>BEACHFRONT REALTY INC</td>\n",
       "      <td>33160</td>\n",
       "      <td>181</td>\n",
       "    </tr>\n",
       "  </tbody>\n",
       "</table>\n",
       "</div>"
      ],
      "text/plain": [
       "                          Employer's Name    Zip  Licensee Name\n",
       "14046            OPTIMAR REALTY GROUP LLC  33180             51\n",
       "8472   GREAT PROPERTIES INTERNATIONAL LLC  33149             51\n",
       "13668         OCEAN VIEW INT'L REALTY INC  33178             52\n",
       "1679                BEACHFRONT REALTY INC  33154             52\n",
       "12641            MIAMI RED BOX REALTY LLC  33160             52\n",
       "5343                     EAGLE REALTY LLC  33138             52\n",
       "20069      YAFFE INTERNATIONAL REALTY LLC  33160             53\n",
       "6052         ESSLINGER WOOTEN MAXWELL INC  33156             54\n",
       "7188         FLORIDA REALTY OF MIAMI CORP  33186             55\n",
       "12210              MIAMI BEACH REALTY LLC  33139             55\n",
       "11980                            MDLV LLC  33139             61\n",
       "6047         ESSLINGER WOOTEN MAXWELL INC  33149             65\n",
       "2421            BRICKELL REALTY GROUP LLC  33178             70\n",
       "5046          DOUGLAS ELLIMAN FLORIDA LLC  33139             74\n",
       "12436                MIAMI NEW REALTY INC  33178             75\n",
       "1665                BEACHFRONT REALTY INC  33141             75\n",
       "1662                BEACHFRONT REALTY INC  33140             78\n",
       "1659                BEACHFRONT REALTY INC  33139             83\n",
       "1716                BEACHFRONT REALTY INC  33179             99\n",
       "14035            OPTIMAR REALTY GROUP LLC  33160            108\n",
       "18336                   THE KEYES COMPANY  33178            125\n",
       "1718                BEACHFRONT REALTY INC  33180            151\n",
       "1687                BEACHFRONT REALTY INC  33160            181"
      ]
     },
     "execution_count": 133,
     "metadata": {},
     "output_type": "execute_result"
    }
   ],
   "source": [
    "long = zG['Licensee Name'].count().reset_index()\n",
    "long.loc[long['Licensee Name'] > 50].sort_values('Licensee Name', ascending=False)"
   ]
  },
  {
   "cell_type": "code",
   "execution_count": null,
   "metadata": {},
   "outputs": [],
   "source": []
  }
 ],
 "metadata": {
  "kernelspec": {
   "display_name": "Python 3",
   "language": "python",
   "name": "python3"
  },
  "language_info": {
   "codemirror_mode": {
    "name": "ipython",
    "version": 3
   },
   "file_extension": ".py",
   "mimetype": "text/x-python",
   "name": "python",
   "nbconvert_exporter": "python",
   "pygments_lexer": "ipython3",
   "version": "3.6.5"
  }
 },
 "nbformat": 4,
 "nbformat_minor": 2
}

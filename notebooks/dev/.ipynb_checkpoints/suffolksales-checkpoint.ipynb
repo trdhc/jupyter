{
 "cells": [
  {
   "cell_type": "markdown",
   "metadata": {},
   "source": [
    "# Merging Sales with Building Footprints\n",
    "<hr>\n",
    "The purpose of this script is to combine the list of sales downloaded from the Suffolk County Recorder—which do not include addresses or cities—and use their tax-map number to determine whether they are in the North Fork or the South Fork."
   ]
  },
  {
   "cell_type": "code",
   "execution_count": 4,
   "metadata": {},
   "outputs": [],
   "source": [
    "import pandas as pd\n",
    "import os\n",
    "import re"
   ]
  },
  {
   "cell_type": "markdown",
   "metadata": {},
   "source": [
    "This function is for taking a raw 19-digit tax map ID and formatting it into a sequence of district, section, block, and lot numbers."
   ]
  },
  {
   "cell_type": "code",
   "execution_count": 45,
   "metadata": {},
   "outputs": [],
   "source": [
    "def format_parcel(number):\n",
    "    \n",
    "    section = number[:4]\n",
    "    block_prefix = number[4:7]\n",
    "    block_suffix = number[7:9]\n",
    "    lot_prefix = number[9:11]\n",
    "    lot_suffix = number[11:13]\n",
    "    parcel_prefix = number[13:16]\n",
    "    parcel_suffix = number[16:]\n",
    "    format_string = '{}-{}.{}-{}.{}-{}.{}'.format(\n",
    "        section,\n",
    "        block_prefix,\n",
    "        block_suffix,\n",
    "        lot_prefix,\n",
    "        lot_suffix,\n",
    "        parcel_prefix,\n",
    "        parcel_suffix\n",
    "    )\n",
    "    return format_string"
   ]
  },
  {
   "cell_type": "markdown",
   "metadata": {},
   "source": [
    "And this function does the reverse."
   ]
  },
  {
   "cell_type": "code",
   "execution_count": 3,
   "metadata": {},
   "outputs": [],
   "source": [
    "def strip_parcel(number):\n",
    "    \n",
    "    raw_string = number.replace('-', '').replace('.', '')\n",
    "    return raw_string\n",
    "    "
   ]
  },
  {
   "cell_type": "markdown",
   "metadata": {},
   "source": [
    "### Aside A: Merging and Cleaning Raw CSVs into a Single File\n",
    "<hr>\n",
    "This step has already been completed and can be skipped for future use."
   ]
  },
  {
   "cell_type": "code",
   "execution_count": 59,
   "metadata": {},
   "outputs": [],
   "source": [
    "hamptons_file = '/Users/haru/Documents/Supplements/hamptons/2018-06/top_brokerages/data/gis/hamptons-footprints.csv'\n",
    "northfork_file = '/Users/haru/Documents/Supplements/hamptons/2018-06/top_brokerages/data/gis/north-fork-footprints.csv'\n",
    "root_dir = '/Users/haru/Documents/Supplements/hamptons/2018-06/top-sales/data/suffolk-county'"
   ]
  },
  {
   "cell_type": "code",
   "execution_count": 60,
   "metadata": {},
   "outputs": [],
   "source": [
    "southFrame = pd.read_csv(hamptons_file, dtype=str)\n",
    "northFrame = pd.read_csv(northfork_file, dtype=str)"
   ]
  },
  {
   "cell_type": "code",
   "execution_count": 72,
   "metadata": {},
   "outputs": [
    {
     "name": "stdout",
     "output_type": "stream",
     "text": [
      "2187\n"
     ]
    }
   ],
   "source": [
    "Frames = []\n",
    "for root,_,files in os.walk(root_dir):\n",
    "    \n",
    "    for f in files:\n",
    "        \n",
    "        if f.endswith('csv'):\n",
    "            \n",
    "            inp = os.path.join(root, f)\n",
    "            dF = pd.read_csv(inp, dtype=str)\n",
    "            Frames.append(dF)\n",
    "            \n",
    "outFrame = pd.concat(Frames, axis=0)\n",
    "outFrame.fillna('', inplace=True)"
   ]
  },
  {
   "cell_type": "code",
   "execution_count": 75,
   "metadata": {},
   "outputs": [],
   "source": [
    "Array = outFrame.values\n",
    "Keys = outFrame.columns.values\n",
    "Dicts = []\n",
    "for Row in Array:\n",
    "    \n",
    "    Data = [re.sub('<B>.*?B>', '', cell) for cell in Row]\n",
    "    d = dict(zip(Keys, Data))\n",
    "    Dicts.append(d)\n",
    "    \n",
    "cleanFrame = pd.DataFrame(Dicts)"
   ]
  },
  {
   "cell_type": "code",
   "execution_count": 76,
   "metadata": {},
   "outputs": [],
   "source": [
    "Formatted_Parcels = cleanFrame.TAXMAPNO.values"
   ]
  },
  {
   "cell_type": "code",
   "execution_count": 77,
   "metadata": {},
   "outputs": [],
   "source": [
    "Stripped_Parcels = [strip_parcel(p) for p in Formatted_Parcels]"
   ]
  },
  {
   "cell_type": "code",
   "execution_count": 78,
   "metadata": {},
   "outputs": [],
   "source": [
    "cleanFrame = cleanFrame.assign(PARCELID=Stripped_Parcels)\n",
    "cleanFrame.to_csv('/Users/haru/Documents/Supplements/hamptons/2018-06/top_brokerages/data/gis/sales.csv', index=False)"
   ]
  },
  {
   "cell_type": "markdown",
   "metadata": {},
   "source": [
    "### End Aside.\n",
    "<hr>"
   ]
  },
  {
   "cell_type": "markdown",
   "metadata": {},
   "source": [
    "### Aside B: Merging the Clean Sales Data with Separate Files for North and South Fork\n",
    "This isn't necessary, since we're going to follow these steps for the entire Suffolk County file instead.\n",
    "\n",
    "The same principle applies, however."
   ]
  },
  {
   "cell_type": "code",
   "execution_count": 79,
   "metadata": {},
   "outputs": [],
   "source": [
    "nmergeFrame = cleanFrame.merge(northFrame, on='PARCELID', how='inner')\n",
    "smergeFrame = cleanFrame.merge(southFrame, on='PARCELID', how='inner')"
   ]
  },
  {
   "cell_type": "code",
   "execution_count": 81,
   "metadata": {},
   "outputs": [],
   "source": [
    "nmergeFrame.to_csv('/Users/haru/Documents/Supplements/hamptons/2018-06/top_brokerages/data/gis/northfork_sales_with-footprints.csv', index=False)\n",
    "smergeFrame.to_csv('/Users/haru/Documents/Supplements/hamptons/2018-06/top_brokerages/data/gis/hamptons_sales_with-footprints.csv', index=False)"
   ]
  },
  {
   "cell_type": "markdown",
   "metadata": {},
   "source": [
    "### End Aside.\n",
    "<hr>"
   ]
  },
  {
   "cell_type": "markdown",
   "metadata": {},
   "source": [
    "## Step 1: Loading the Data\n",
    "Here, we're going to load the entire Suffolk County Building Footprints file into a Pandas DataFrame. The link to the data is: https://gis.ny.gov/gisdata/inventories/details.cfm?DSID=1300.\n",
    "\n",
    "Please note that this data is <b>not</b> the CSV file that you can download directly from the site. Rather, it is the ESRI shapefile that has been imported into QGIS and then exported from there into a CSV. The reason for this roundabout method is that the shapefile contains more details than the CSV—including location data."
   ]
  },
  {
   "cell_type": "code",
   "execution_count": 5,
   "metadata": {},
   "outputs": [],
   "source": [
    "foot_file = '/Users/haru/Documents/Supplements/hamptons/2018-06/top-sales/data/gis/Suffolk-Tax-Parcels-Centroid-Points-SHP.csv'\n",
    "sales_file = '/Users/haru/Documents/Supplements/hamptons/2018-06/top-sales/data/gis/hamptons_recorded-sales_all-suffolk_1m+.csv'"
   ]
  },
  {
   "cell_type": "code",
   "execution_count": 6,
   "metadata": {},
   "outputs": [],
   "source": [
    "footFrame = pd.read_csv(foot_file, dtype=str)\n",
    "salesFrame = pd.read_csv(sales_file, dtype=str)"
   ]
  },
  {
   "cell_type": "markdown",
   "metadata": {},
   "source": [
    "## Step 2: Cleaning the Data"
   ]
  },
  {
   "cell_type": "markdown",
   "metadata": {},
   "source": [
    "### a) Getting District Codes\n",
    "It turns out that the NY state file doesn't include the Suffolk County district codes—i.e. the first four digits of the complete tax ID number.\n",
    "\n",
    "But it does include the name of the town.\n",
    "\n",
    "We can get the district code from the name of the town, using the County's own reference sheet: http://www.suffolkcountyny.gov/Departments/CountyClerk/TownandDistrictCodes.aspx.\n",
    "\n",
    "Once we put that into a dictionary, we can use it to convert the towns into codes."
   ]
  },
  {
   "cell_type": "code",
   "execution_count": 7,
   "metadata": {},
   "outputs": [],
   "source": [
    "distDict = {\n",
    "    'Amityville': '0101',\n",
    "    'Asharoken': '0401',\n",
    "    'Babylon': '0100',#0102\n",
    "    'Babylon, Village': '0102',#0100\n",
    "    'Lindenhurst': '0103',\n",
    "    'Belle Terre': '0201',\n",
    "    'Bellport': '0202',\n",
    "    'Brightwaters': '0501',\n",
    "    'Brookhaven': '0200',\n",
    "    'Shoreham': '0207',\n",
    "    'Old Field': '0203',\n",
    "    'Poquott': '0205',\n",
    "    'Port Jefferson': '0206',\n",
    "    'Lake Grove': '0208',\n",
    "    'Patchogue': '0204',\n",
    "    'Mastic Beach': '0209',\n",
    "    'Dering Harbor': '0701',\n",
    "    'East Hampton': '0300',#0301\n",
    "    'East Hampton, Village': '0301',#0300\n",
    "    'Sag Harbor': '0903',\n",
    "    'Greenport': '1001',\n",
    "    'Head Of The Harbor': '0801',\n",
    "    'Huntington': '0400',\n",
    "    'Lloyd Harbor': '0403',\n",
    "    'Northport': '0404',\n",
    "    'Huntington Bay': '0400',\n",
    "    'Islandia': '0504',\n",
    "    'Islip': '0500',\n",
    "    'Saltaire': '0503',\n",
    "    'Ocean Beach': '0502',\n",
    "    'Nissequogue': '0802',\n",
    "    'North Haven': '0901',\n",
    "    'Quogue': '0902',\n",
    "    'Riverhead': '0900',\n",
    "    'Sagaponack': '0908',\n",
    "    'Shelter Island': '0700',\n",
    "    'Smithtown': '0800',\n",
    "    'Village Of The Branch': '0803',\n",
    "    'West Hampton Dunes': '0907',\n",
    "    'Southampton': '0904',\n",
    "    'Westhampton Beach': '0905',\n",
    "    'Southampton, Village': '0900',\n",
    "    'Southold': '1000',\n",
    "}"
   ]
  },
  {
   "cell_type": "code",
   "execution_count": null,
   "metadata": {},
   "outputs": [],
   "source": [
    "distDict = {\n",
    "    'Amityville':'0101',\n",
    "    'Asharoken':'0401',\n",
    "    'Babylon 0100',\n",
    "    'Babylon, Village':'0102',\n",
    "    'Belle Terre 0201',\n",
    "    'Bellport':'0202',\n",
    "    'Brightwaters':'0501',\n",
    "    'Brookhaven':'0200',\n",
    "    'Dering Harbor':'0701',\n",
    "    'East Hampton':'0300',\n",
    "    'East Hampton, Village':'0301',\n",
    "    'Greenport':'1001',\n",
    "    'Head Of The Harbor':'0801',\n",
    "    'Huntington':'0400',\n",
    "    'Huntington Bay':'0400',\n",
    "    'Islandia':'0504',\n",
    "    'Islip':'0500',\n",
    "    'Lake Grove':'0208',\n",
    "    'Lindenhurst 0103',\n",
    "    'Lloyd Harbor':'0403',\n",
    "    'Mastic Beach':'0209',\n",
    "    'Nissequogue 0802',\n",
    "    'North Haven 0901',\n",
    "    'Northport':'0404',\n",
    "    'Ocean Beach 0502',\n",
    "    'Old Field':'0203',\n",
    "    'Patchogue':'0204',\n",
    "    'Poquott 0205',\n",
    "    'Port Jefferson':'0206',\n",
    "    'Quogue':'0902',\n",
    "    'Riverhead':'0600',\n",
    "    'Sag Harbor':'0302',\n",
    "    'Sagaponack':'0908',\n",
    "    'Saltaire':'0503',\n",
    "    'Shelter Island':'0700',\n",
    "    'Shoreham':'0207',\n",
    "    'Smithtown':'0800',\n",
    "    'Southampton 0900',\n",
    "    'Southampton, Village':'0904',\n",
    "    'Southold':'1000',\n",
    "    'Village Of The Branch':'0803',\n",
    "    'West Hampton Dunes':'0907',\n",
    "    'Westhampton Beach':'0905',\n",
    "}"
   ]
  },
  {
   "cell_type": "code",
   "execution_count": 8,
   "metadata": {
    "scrolled": true
   },
   "outputs": [],
   "source": [
    "def get_district(muni):\n",
    "    \n",
    "    try:\n",
    "        \n",
    "        district = distDict[muni]\n",
    "        \n",
    "    except KeyError:\n",
    "        \n",
    "        district = '0000'\n",
    "        \n",
    "    return district"
   ]
  },
  {
   "cell_type": "code",
   "execution_count": 9,
   "metadata": {},
   "outputs": [],
   "source": [
    "Towns = footFrame.MUNI_NAME.values\n",
    "Dists = [distDict[t] for t in Towns]"
   ]
  },
  {
   "cell_type": "code",
   "execution_count": 10,
   "metadata": {
    "scrolled": true
   },
   "outputs": [],
   "source": [
    "footFrame = footFrame.assign(district=Dists)"
   ]
  },
  {
   "cell_type": "code",
   "execution_count": 22,
   "metadata": {},
   "outputs": [
    {
     "name": "stdout",
     "output_type": "stream",
     "text": [
      "Amityville\n",
      "Asharoken\n",
      "Babylon\n",
      "Babylon, Village\n",
      "Lindenhurst\n",
      "Belle Terre\n",
      "Bellport\n",
      "Brightwaters\n",
      "Brookhaven\n",
      "Shoreham\n",
      "Old Field\n",
      "Poquott\n",
      "Port Jefferson\n",
      "Lake Grove\n",
      "Patchogue\n",
      "Mastic Beach\n",
      "Dering Harbor\n",
      "East Hampton\n",
      "East Hampton, Village\n",
      "Sag Harbor\n",
      "Greenport\n",
      "Head Of The Harbor\n",
      "Huntington\n",
      "Lloyd Harbor\n",
      "Northport\n",
      "Huntington Bay\n",
      "Islandia\n",
      "Islip\n",
      "Saltaire\n",
      "Ocean Beach\n",
      "Nissequogue\n",
      "North Haven\n",
      "Quogue\n",
      "Riverhead\n",
      "Sagaponack\n",
      "Shelter Island\n",
      "Smithtown\n",
      "Village Of The Branch\n",
      "West Hampton Dunes\n",
      "Southampton\n",
      "Westhampton Beach\n",
      "Southampton, Village\n",
      "Southold\n"
     ]
    }
   ],
   "source": [
    "for t in footFrame.MUNI_NAME.unique():\n",
    "    print(t)"
   ]
  },
  {
   "cell_type": "markdown",
   "metadata": {},
   "source": [
    "### B) Fixing the SBLs\n",
    "Also, the state file's SBL numbers are formatted in a number of different ways.\n",
    "\n",
    "The cleanest is a simply 15-digit code that is essentially a truncated version of the complete tax number.\n",
    "\n",
    "But there are others that are a result of the state recombining elements of the tax number, probably in a botched attempt to standardize them.\n",
    "\n",
    "Luckily, there are only a few variants, and the pattern for cleaning the number aligns with the length of the string."
   ]
  },
  {
   "cell_type": "code",
   "execution_count": 11,
   "metadata": {},
   "outputs": [],
   "source": [
    "def correct_sbl(sbl):\n",
    "    \n",
    "    length = len(sbl)\n",
    "    if length == 20:\n",
    "        \n",
    "        #Break string apart.\n",
    "        section = sbl[:5]\n",
    "        block = sbl[5:10]\n",
    "        lot = sbl[10:]\n",
    "\n",
    "        #Re-order and trim block\n",
    "        block = block[-2:] + block[:-2]\n",
    "        block = block[:4]\n",
    "\n",
    "        #Trim 0000 from lot\n",
    "        lot = lot[:-4]\n",
    "\n",
    "        #Combine\n",
    "        revised = ''.join([section, block, lot])\n",
    "        \n",
    "    elif length == 16:\n",
    "        \n",
    "        #Break string apart.\n",
    "        section = sbl[:5]\n",
    "        block = sbl[5:10]\n",
    "        lot = sbl[10:]\n",
    "        \n",
    "        #Trim block\n",
    "        block = block[1:]\n",
    "        \n",
    "        #Combine\n",
    "        revised = ''.join([section, block, lot])\n",
    "        \n",
    "    elif length == 17:\n",
    "        \n",
    "        #Break string apart.\n",
    "        section = sbl[:5]\n",
    "        block = sbl[5:10]\n",
    "        lot = sbl[10:]\n",
    "        \n",
    "        #Trim block\n",
    "        block = block[1:]\n",
    "        \n",
    "        #Trim lot.\n",
    "        lot = lot[:-1]\n",
    "        \n",
    "        #Combine\n",
    "        revised = ''.join([section, block, lot])\n",
    "    \n",
    "    else:\n",
    "        \n",
    "        print('{}: {}'.format(sbl, length))\n",
    "        raise\n",
    "        \n",
    "    return revised\n",
    "    "
   ]
  },
  {
   "cell_type": "code",
   "execution_count": 12,
   "metadata": {},
   "outputs": [],
   "source": [
    "Raw_Codes = footFrame.SBL.values\n",
    "Clean_Codes = [correct_sbl(c) if len(c) != 15 else c for c in Raw_Codes]"
   ]
  },
  {
   "cell_type": "code",
   "execution_count": 13,
   "metadata": {},
   "outputs": [],
   "source": [
    "footFrame = footFrame.assign(clean_sbl=Clean_Codes)"
   ]
  },
  {
   "cell_type": "markdown",
   "metadata": {},
   "source": [
    "### C) Creating Complete Tax ID Numbers\n",
    "You can concatenate the strings in two DataFrame columns simply by adding them:"
   ]
  },
  {
   "cell_type": "code",
   "execution_count": 14,
   "metadata": {},
   "outputs": [],
   "source": [
    "footFrame = footFrame.assign(recombined_parcel=footFrame.district + footFrame.clean_sbl)"
   ]
  },
  {
   "cell_type": "markdown",
   "metadata": {},
   "source": [
    "But it turns out that this produces a low success rate—likely because of slight variations in the district codes used for each parcel. (Only about one in five sales was successfully mapped to a parcel number.)\n",
    "\n",
    "Instead, we're going to map sales to parcels based on their SBL number only—without the district.\n",
    "\n",
    "This carries a small risk of matching sales with parcels with the same SBL number but in a different town.\n",
    "\n",
    "But we can spot-check those when we have the final list."
   ]
  },
  {
   "cell_type": "code",
   "execution_count": 15,
   "metadata": {},
   "outputs": [],
   "source": [
    "Parcel_Nos = salesFrame.PARCELID.values\n",
    "SBL_Only = [p[4:] for p in Parcel_Nos]\n",
    "salesFrame = salesFrame.assign(clean_sbl=SBL_Only)"
   ]
  },
  {
   "cell_type": "code",
   "execution_count": 17,
   "metadata": {},
   "outputs": [],
   "source": [
    "salesFrame = salesFrame.rename(columns={'PARCELID':'recombined_parcel'})"
   ]
  },
  {
   "cell_type": "code",
   "execution_count": 18,
   "metadata": {
    "scrolled": true
   },
   "outputs": [],
   "source": [
    "mergeFrame = salesFrame.merge(footFrame, on='recombined_parcel', how='left')\n",
    "mergeFrame.to_csv('/Users/haru/Documents/Supplements/hamptons/2018-06/top-sales/data/gis/hamptons_sales_merged_all-suffolk.csv', index=False)"
   ]
  },
  {
   "cell_type": "markdown",
   "metadata": {},
   "source": [
    "## Step 3: Filtering and Sorting the Data\n",
    "\n"
   ]
  },
  {
   "cell_type": "code",
   "execution_count": 21,
   "metadata": {},
   "outputs": [
    {
     "data": {
      "text/html": [
       "<div>\n",
       "<style scoped>\n",
       "    .dataframe tbody tr th:only-of-type {\n",
       "        vertical-align: middle;\n",
       "    }\n",
       "\n",
       "    .dataframe tbody tr th {\n",
       "        vertical-align: top;\n",
       "    }\n",
       "\n",
       "    .dataframe thead th {\n",
       "        text-align: right;\n",
       "    }\n",
       "</style>\n",
       "<table border=\"1\" class=\"dataframe\">\n",
       "  <thead>\n",
       "    <tr style=\"text-align: right;\">\n",
       "      <th></th>\n",
       "      <th>X</th>\n",
       "      <th>Y</th>\n",
       "      <th>COUNTY</th>\n",
       "      <th>MUNI_NAME</th>\n",
       "      <th>SWIS</th>\n",
       "      <th>PARCELADDR</th>\n",
       "      <th>PRINT_KEY</th>\n",
       "      <th>SBL</th>\n",
       "      <th>CT_NAME</th>\n",
       "      <th>CT_SWIS</th>\n",
       "      <th>...</th>\n",
       "      <th>ROLL_YR</th>\n",
       "      <th>SPATIAL_YR</th>\n",
       "      <th>OWNER_TYPE</th>\n",
       "      <th>NYS_NAME</th>\n",
       "      <th>NAMESOURCE</th>\n",
       "      <th>DUP_GEO</th>\n",
       "      <th>CALC_ACRES</th>\n",
       "      <th>district</th>\n",
       "      <th>clean_sbl</th>\n",
       "      <th>recombined_parcel</th>\n",
       "    </tr>\n",
       "  </thead>\n",
       "  <tbody>\n",
       "    <tr>\n",
       "      <th>8993</th>\n",
       "      <td>643419.155899999663234</td>\n",
       "      <td>4513602.5412</td>\n",
       "      <td>Suffolk</td>\n",
       "      <td>Babylon</td>\n",
       "      <td>472089</td>\n",
       "      <td>960 GRAND BL</td>\n",
       "      <td>67.-1-24.31</td>\n",
       "      <td>06700000010240310000</td>\n",
       "      <td>Babylon</td>\n",
       "      <td>472000</td>\n",
       "      <td>...</td>\n",
       "      <td>2016</td>\n",
       "      <td>2014</td>\n",
       "      <td>8</td>\n",
       "      <td>NaN</td>\n",
       "      <td>NaN</td>\n",
       "      <td>NaN</td>\n",
       "      <td>2.00182898885</td>\n",
       "      <td>0102</td>\n",
       "      <td>067000100024031</td>\n",
       "      <td>0102067000100024031</td>\n",
       "    </tr>\n",
       "    <tr>\n",
       "      <th>262827</th>\n",
       "      <td>734471.982200000435114</td>\n",
       "      <td>4542105.3416</td>\n",
       "      <td>Suffolk</td>\n",
       "      <td>East Hampton</td>\n",
       "      <td>472489</td>\n",
       "      <td>2 DERING LN</td>\n",
       "      <td>113.-3-24.31</td>\n",
       "      <td>11300000030240310000</td>\n",
       "      <td>East Hampton</td>\n",
       "      <td>472400</td>\n",
       "      <td>...</td>\n",
       "      <td>2016</td>\n",
       "      <td>2014</td>\n",
       "      <td>8</td>\n",
       "      <td>NaN</td>\n",
       "      <td>NaN</td>\n",
       "      <td>NaN</td>\n",
       "      <td>1.41803377641</td>\n",
       "      <td>0301</td>\n",
       "      <td>113000300024031</td>\n",
       "      <td>0301113000300024031</td>\n",
       "    </tr>\n",
       "    <tr>\n",
       "      <th>585359</th>\n",
       "      <td>730756.653300000354648</td>\n",
       "      <td>4559490.321599999443</td>\n",
       "      <td>Suffolk</td>\n",
       "      <td>Southold</td>\n",
       "      <td>473889</td>\n",
       "      <td>80 Ryder Farm Ln</td>\n",
       "      <td>15.-5-24.31</td>\n",
       "      <td>01500000050240310000</td>\n",
       "      <td>Southold</td>\n",
       "      <td>473800</td>\n",
       "      <td>...</td>\n",
       "      <td>2016</td>\n",
       "      <td>2014</td>\n",
       "      <td>8</td>\n",
       "      <td>NaN</td>\n",
       "      <td>NaN</td>\n",
       "      <td>NaN</td>\n",
       "      <td>0.95129833971</td>\n",
       "      <td>1000</td>\n",
       "      <td>015000500024031</td>\n",
       "      <td>1000015000500024031</td>\n",
       "    </tr>\n",
       "  </tbody>\n",
       "</table>\n",
       "<p>3 rows × 75 columns</p>\n",
       "</div>"
      ],
      "text/plain": [
       "                             X                     Y   COUNTY     MUNI_NAME  \\\n",
       "8993    643419.155899999663234          4513602.5412  Suffolk       Babylon   \n",
       "262827  734471.982200000435114          4542105.3416  Suffolk  East Hampton   \n",
       "585359  730756.653300000354648  4559490.321599999443  Suffolk      Southold   \n",
       "\n",
       "          SWIS        PARCELADDR     PRINT_KEY                   SBL  \\\n",
       "8993    472089      960 GRAND BL   67.-1-24.31  06700000010240310000   \n",
       "262827  472489       2 DERING LN  113.-3-24.31  11300000030240310000   \n",
       "585359  473889  80 Ryder Farm Ln   15.-5-24.31  01500000050240310000   \n",
       "\n",
       "             CT_NAME CT_SWIS         ...          ROLL_YR SPATIAL_YR  \\\n",
       "8993         Babylon  472000         ...             2016       2014   \n",
       "262827  East Hampton  472400         ...             2016       2014   \n",
       "585359      Southold  473800         ...             2016       2014   \n",
       "\n",
       "       OWNER_TYPE NYS_NAME NAMESOURCE DUP_GEO     CALC_ACRES district  \\\n",
       "8993            8      NaN        NaN     NaN  2.00182898885     0102   \n",
       "262827          8      NaN        NaN     NaN  1.41803377641     0301   \n",
       "585359          8      NaN        NaN     NaN  0.95129833971     1000   \n",
       "\n",
       "              clean_sbl    recombined_parcel  \n",
       "8993    067000100024031  0102067000100024031  \n",
       "262827  113000300024031  0301113000300024031  \n",
       "585359  015000500024031  1000015000500024031  \n",
       "\n",
       "[3 rows x 75 columns]"
      ]
     },
     "execution_count": 21,
     "metadata": {},
     "output_type": "execute_result"
    }
   ],
   "source": [
    "mask = footFrame.recombined_parcel.str.contains('024031')\n",
    "group = footFrame.loc[mask]\n",
    "group"
   ]
  },
  {
   "cell_type": "code",
   "execution_count": null,
   "metadata": {},
   "outputs": [],
   "source": []
  }
 ],
 "metadata": {
  "kernelspec": {
   "display_name": "Python 3",
   "language": "python",
   "name": "python3"
  },
  "language_info": {
   "codemirror_mode": {
    "name": "ipython",
    "version": 3
   },
   "file_extension": ".py",
   "mimetype": "text/x-python",
   "name": "python",
   "nbconvert_exporter": "python",
   "pygments_lexer": "ipython3",
   "version": "3.6.5"
  }
 },
 "nbformat": 4,
 "nbformat_minor": 2
}

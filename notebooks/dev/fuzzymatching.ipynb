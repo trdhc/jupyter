{
 "cells": [
  {
   "cell_type": "markdown",
   "metadata": {},
   "source": [
    "# Merging Tables Based on \"Fuzzy\" Matches"
   ]
  },
  {
   "cell_type": "markdown",
   "metadata": {},
   "source": [
    "## Step 1: Trying to Find a Match"
   ]
  },
  {
   "cell_type": "code",
   "execution_count": 5,
   "metadata": {},
   "outputs": [],
   "source": [
    "import pandas as pd"
   ]
  },
  {
   "cell_type": "code",
   "execution_count": 6,
   "metadata": {},
   "outputs": [],
   "source": [
    "agent_file = '/Users/haru/Documents/data/sofla/licensing/sofla_agent-lists_elliman.csv'\n",
    "license_file = '/Users/haru/Documents/data/sofla/licensing/sofla_licensing_dade_just-addresses_2018-04-28.csv'"
   ]
  },
  {
   "cell_type": "code",
   "execution_count": 7,
   "metadata": {},
   "outputs": [],
   "source": [
    "agentFrame = pd.read_csv(agent_file, dtype=str)\n",
    "licenseFrame = pd.read_csv(license_file, dtype=str)"
   ]
  },
  {
   "cell_type": "markdown",
   "metadata": {},
   "source": [
    "Our goal here is to take the place-of-work addresses contained in the list of agents we downloaded from the Douglass Elliman website and merge it with the residence addresses for those same agents in the licensing file.\n",
    "\n",
    "But because agents often do business under a slightly different name from what is on their real estate license, it helps to use a 'fuzzy' matching strategy.\n",
    "\n",
    "To do that, we want to break the names on the agent list apart and use each piece to filter down the licensing list.\n",
    "\n",
    "We've already split the agent file into first and last names. Let's see what comes up for Joshua Ackerman, an agent listed on Elliman's website.\n",
    "\n",
    "First, we'll search for Ackerman (in upper case)."
   ]
  },
  {
   "cell_type": "code",
   "execution_count": 11,
   "metadata": {},
   "outputs": [
    {
     "name": "stdout",
     "output_type": "stream",
     "text": [
      "['ACKERMAN, JOE SAM' 'ACKERMAN, ARMINDA' 'ACKERMAN, MATTHEW D'\n",
      " 'ACKERMAN, JOSHUA ELAN']\n"
     ]
    }
   ],
   "source": [
    "mask = licenseFrame['Licensee Name'].str.contains('ACKERMAN', na=False)\n",
    "group = licenseFrame.loc[mask]\n",
    "print(group['Licensee Name'].values)"
   ]
  },
  {
   "cell_type": "markdown",
   "metadata": {},
   "source": [
    "There is only one Joshua Ackerman in the licensing roll, but it's not a perfect match. The license includes a middle name, 'Elan.'\n",
    "\n",
    "Now that we've filtered down by last name, we can make a second pass based on the first name: a filter within a filter."
   ]
  },
  {
   "cell_type": "code",
   "execution_count": 13,
   "metadata": {},
   "outputs": [
    {
     "name": "stdout",
     "output_type": "stream",
     "text": [
      "['ACKERMAN, JOSHUA ELAN']\n"
     ]
    }
   ],
   "source": [
    "mask = group['Licensee Name'].str.contains('JOSHUA', na=False)\n",
    "group = group.loc[mask]\n",
    "print(group['Licensee Name'].values)"
   ]
  },
  {
   "cell_type": "markdown",
   "metadata": {},
   "source": [
    "That's a good match. But since it's possible for there two be two real estate agents in the same county under the same name, it would help to have supporting evidence that these are the same person.\n",
    "\n",
    "A license number would be ideal, but Douglas Elliman doesn't provide that on their site.\n",
    "\n",
    "Instead, we can look at the licensing roll to see which firm is listed as Joshua Ackerman's employer. While it's possible that there are two Joshua Ackermans in Miami real estate, the chances that they both would work at Douglas Elliman is pretty low."
   ]
  },
  {
   "cell_type": "code",
   "execution_count": 14,
   "metadata": {},
   "outputs": [
    {
     "name": "stdout",
     "output_type": "stream",
     "text": [
      "['DOUGLAS ELLIMAN FLORIDA LLC']\n"
     ]
    }
   ],
   "source": [
    "print(group[\"Employer's Name\"].values)"
   ]
  },
  {
   "cell_type": "markdown",
   "metadata": {},
   "source": [
    "That's good enough for us!\n",
    "\n",
    "But now that we've found a match, we still to figure out a way to merge the information from the two tables. To do that, we need to deal with the difference between their licensed name and their public one.\n",
    "\n",
    "We could clean the licensing data, but that would take a lot of time for very little benefit. The purpose of cleaning the licensed names would be to ensure a good match between the licensing file and the agent file—but we've already made the match using boolean masks. Cleaning the names is, therefore, unnecessary.\n",
    "\n",
    "We can merge the data, then, with a simple call to pd.concat()."
   ]
  },
  {
   "cell_type": "markdown",
   "metadata": {},
   "source": [
    "## Step 2: Merging the Data"
   ]
  },
  {
   "cell_type": "markdown",
   "metadata": {},
   "source": [
    "We can define a function that will complete the following tasks:\n",
    "    1. Use boolean masks (i.e. \"filters\") to identify a match between an agent's public name and their licensed name.\n",
    "    2. "
   ]
  }
 ],
 "metadata": {
  "kernelspec": {
   "display_name": "Python 3",
   "language": "python",
   "name": "python3"
  },
  "language_info": {
   "codemirror_mode": {
    "name": "ipython",
    "version": 3
   },
   "file_extension": ".py",
   "mimetype": "text/x-python",
   "name": "python",
   "nbconvert_exporter": "python",
   "pygments_lexer": "ipython3",
   "version": "3.6.5"
  }
 },
 "nbformat": 4,
 "nbformat_minor": 2
}
